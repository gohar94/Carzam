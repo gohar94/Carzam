{
 "cells": [
  {
   "cell_type": "code",
   "execution_count": 1,
   "metadata": {
    "collapsed": false
   },
   "outputs": [
    {
     "name": "stderr",
     "output_type": "stream",
     "text": [
      "Using Theano backend.\n"
     ]
    }
   ],
   "source": [
    "import numpy as np\n",
    "from keras.preprocessing import image\n",
    "from keras.applications import inception_v3\n",
    "from keras.models import Model\n",
    "from keras.layers import Dense, Flatten, Input\n",
    "from keras.optimizers import SGD, RMSprop, Adam\n",
    "import vgg16 as jeremy_vgg16\n",
    "from matplotlib import pyplot as plt"
   ]
  },
  {
   "cell_type": "code",
   "execution_count": 2,
   "metadata": {
    "collapsed": true
   },
   "outputs": [],
   "source": [
    "# For showing the plots in this webpage\n",
    "%matplotlib inline"
   ]
  },
  {
   "cell_type": "code",
   "execution_count": 3,
   "metadata": {
    "collapsed": false
   },
   "outputs": [
    {
     "name": "stdout",
     "output_type": "stream",
     "text": [
      "Found 16 images belonging to 2 classes.\n",
      "Found 8 images belonging to 2 classes.\n"
     ]
    }
   ],
   "source": [
    "BATCH_SIZE = 64\n",
    "DATA_PATH = \"../data/carzam/\"\n",
    "batches = jeremy_vgg16.Vgg16().get_batches(DATA_PATH+'train',\n",
    "                                 gen=image.ImageDataGenerator(preprocessing_function=jeremy_vgg16.vgg_preprocess),\n",
    "                                 batch_size=BATCH_SIZE)\n",
    "val_batches = jeremy_vgg16.Vgg16().get_batches(DATA_PATH+'valid',\n",
    "                                     gen=image.ImageDataGenerator(preprocessing_function=jeremy_vgg16.vgg_preprocess),\n",
    "                                     batch_size=BATCH_SIZE)"
   ]
  },
  {
   "cell_type": "code",
   "execution_count": 4,
   "metadata": {
    "collapsed": true
   },
   "outputs": [],
   "source": [
    "input_layer = Input(shape=(3, 224, 224),\n",
    "              name='image_input')\n",
    "base_model = inception_v3.InceptionV3(weights='imagenet', include_top=False)\n",
    "x = base_model(input_layer)\n",
    "x = Flatten(name='flatten')(x)\n",
    "x = Dense(4096, activation='softmax', name='fc1')(x)\n",
    "x = Dense(4096, activation='relu', name='fc2')(x)\n",
    "predictions = Dense(2, activation='softmax', name='predictions')(x)"
   ]
  },
  {
   "cell_type": "code",
   "execution_count": 5,
   "metadata": {
    "collapsed": true
   },
   "outputs": [],
   "source": [
    "# this is the model we will train\n",
    "keras_vgg = Model(input=input_layer, output=predictions)\n",
    "\n",
    "# freeze all convolutional Vgg16 layers\n",
    "for layer in base_model.layers:\n",
    "    layer.trainable = False\n",
    "\n",
    "# compile the model\n",
    "keras_vgg.compile(optimizer=RMSprop(), loss='categorical_crossentropy', metrics=['accuracy'])"
   ]
  },
  {
   "cell_type": "code",
   "execution_count": 10,
   "metadata": {
    "collapsed": true
   },
   "outputs": [],
   "source": [
    "# Plot the results of the training\n",
    "def plot_results(history):\n",
    "    # Summarize history for accuracy\n",
    "    plt.plot(history.history['acc'])\n",
    "    plt.plot(history.history['val_acc'])\n",
    "    plt.title('model accuracy')\n",
    "    plt.ylabel('accuracy')\n",
    "    plt.xlabel('epoch')\n",
    "    plt.legend(['train', 'test'], loc='upper left')\n",
    "    plt.show()\n",
    "    # Summarize history for loss\n",
    "    plt.plot(history.history['loss'])\n",
    "    plt.plot(history.history['val_loss'])\n",
    "    plt.title('model loss')\n",
    "    plt.ylabel('loss')\n",
    "    plt.xlabel('epoch')\n",
    "    plt.legend(['train', 'test'], loc='upper left')\n",
    "    plt.show()"
   ]
  },
  {
   "cell_type": "code",
   "execution_count": null,
   "metadata": {
    "collapsed": false,
    "scrolled": true
   },
   "outputs": [],
   "source": [
    "history = keras_vgg.fit_generator(batches,\n",
    "                        validation_data=val_batches,\n",
    "                        samples_per_epoch=batches.nb_sample,\n",
    "                        nb_val_samples=val_batches.nb_sample,\n",
    "                        nb_epoch=10)\n",
    "plot_results(history)\n",
    "keras_vgg.save_weights('inception_model_10.h5')"
   ]
  },
  {
   "cell_type": "code",
   "execution_count": null,
   "metadata": {
    "collapsed": false,
    "scrolled": true
   },
   "outputs": [],
   "source": [
    "history = keras_vgg.fit_generator(batches,\n",
    "                        validation_data=val_batches,\n",
    "                        samples_per_epoch=batches.nb_sample,\n",
    "                        nb_val_samples=val_batches.nb_sample,\n",
    "                        nb_epoch=20)\n",
    "plot_results(history)\n",
    "keras_vgg.save_weights('inception_model_30.h5')"
   ]
  },
  {
   "cell_type": "code",
   "execution_count": null,
   "metadata": {
    "collapsed": false,
    "scrolled": true
   },
   "outputs": [],
   "source": [
    "history = keras_vgg.fit_generator(batches,\n",
    "                        validation_data=val_batches,\n",
    "                        samples_per_epoch=batches.nb_sample,\n",
    "                        nb_val_samples=val_batches.nb_sample,\n",
    "                        nb_epoch=30)\n",
    "plot_results(history)\n",
    "keras_vgg.save_weights('inception_model_60.h5')"
   ]
  },
  {
   "cell_type": "code",
   "execution_count": null,
   "metadata": {
    "collapsed": false,
    "scrolled": true
   },
   "outputs": [],
   "source": [
    "history = keras_vgg.fit_generator(batches,\n",
    "                        validation_data=val_batches,\n",
    "                        samples_per_epoch=batches.nb_sample,\n",
    "                        nb_val_samples=val_batches.nb_sample,\n",
    "                        nb_epoch=40)\n",
    "plot_results(history)\n",
    "keras_vgg.save_weights('inception_model_100.h5')"
   ]
  },
  {
   "cell_type": "code",
   "execution_count": null,
   "metadata": {
    "collapsed": false,
    "scrolled": true
   },
   "outputs": [],
   "source": [
    "history = keras_vgg.fit_generator(batches,\n",
    "                        validation_data=val_batches,\n",
    "                        samples_per_epoch=batches.nb_sample,\n",
    "                        nb_val_samples=val_batches.nb_sample,\n",
    "                        nb_epoch=50)\n",
    "plot_results(history)\n",
    "keras_vgg.save_weights('inception_model_150.h5')"
   ]
  },
  {
   "cell_type": "code",
   "execution_count": null,
   "metadata": {
    "collapsed": false
   },
   "outputs": [],
   "source": [
    "keras_vgg.load_weights('test_model.h5')\n",
    "print \"model loaded\""
   ]
  },
  {
   "cell_type": "code",
   "execution_count": null,
   "metadata": {
    "collapsed": true
   },
   "outputs": [],
   "source": [
    "test_batches = jeremy_vgg16.Vgg16().get_batches(DATA_PATH+'test',\n",
    "                                 gen=image.ImageDataGenerator(preprocessing_function=jeremy_vgg16.vgg_preprocess),\n",
    "                                 batch_size=BATCH_SIZE)"
   ]
  },
  {
   "cell_type": "code",
   "execution_count": null,
   "metadata": {
    "collapsed": true
   },
   "outputs": [],
   "source": [
    "probs = keras_vgg.predict_generator(test_batches, test_batches.nb_sample)\n",
    "print probs"
   ]
  }
 ],
 "metadata": {
  "kernelspec": {
   "display_name": "Python [default]",
   "language": "python",
   "name": "python2"
  },
  "language_info": {
   "codemirror_mode": {
    "name": "ipython",
    "version": 2
   },
   "file_extension": ".py",
   "mimetype": "text/x-python",
   "name": "python",
   "nbconvert_exporter": "python",
   "pygments_lexer": "ipython2",
   "version": "2.7.12"
  }
 },
 "nbformat": 4,
 "nbformat_minor": 1
}
